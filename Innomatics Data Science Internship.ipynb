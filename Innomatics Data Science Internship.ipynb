{
 "cells": [
  {
   "cell_type": "markdown",
   "id": "43da43ba",
   "metadata": {},
   "source": [
    "\n"
   ]
  },
  {
   "cell_type": "code",
   "execution_count": 1,
   "id": "1ac854e5",
   "metadata": {},
   "outputs": [],
   "source": [
    "import pandas as pd\n",
    "\n",
    "movies = pd.read_csv('movies.csv')\n",
    "ratings = pd.read_csv('ratings.csv')\n",
    "tags = pd.read_csv('tags.csv')\n",
    "links = pd.read_csv('links.csv')"
   ]
  },
  {
   "cell_type": "code",
   "execution_count": 2,
   "id": "9e048d8a",
   "metadata": {},
   "outputs": [
    {
     "name": "stdout",
     "output_type": "stream",
     "text": [
      "The movie with the maximum number of user ratings is:\n",
      "                   title                    genres\n",
      "314  Forrest Gump (1994)  Comedy|Drama|Romance|War\n"
     ]
    }
   ],
   "source": [
    "# Assuming 'movieId' is the column representing movie IDs in the 'ratings' dataset\n",
    "ratings_count = ratings['movieId'].value_counts()\n",
    "\n",
    "# Get the movie ID with the maximum number of ratings\n",
    "max_ratings_movie_id = ratings_count.idxmax()\n",
    "\n",
    "# Find the movie details in the 'movies' dataset using the max_ratings_movie_id\n",
    "max_ratings_movie = movies[movies['movieId'] == max_ratings_movie_id]\n",
    "\n",
    "# Print the result\n",
    "print(f\"The movie with the maximum number of user ratings is:\")\n",
    "print(max_ratings_movie[['title', 'genres']])\n"
   ]
  },
  {
   "cell_type": "code",
   "execution_count": 3,
   "id": "9b941b12",
   "metadata": {},
   "outputs": [
    {
     "name": "stdout",
     "output_type": "stream",
     "text": [
      "Tags submitted by users for 'Matrix, The (1999)':\n",
      "815           martial arts\n",
      "816                 sci-fi\n",
      "1646    alternate universe\n",
      "2794            philosophy\n",
      "2795      post apocalyptic\n",
      "Name: tag, dtype: object\n"
     ]
    }
   ],
   "source": [
    "# Assuming 'movieId' is the column representing movie IDs and 'title' is the column representing movie titles in the 'movies' dataset\n",
    "matrix_movie_id = movies[movies['title'] == 'Matrix, The (1999)']['movieId'].values[0]\n",
    "\n",
    "# Filter tags for the specific movieId\n",
    "matrix_tags = tags[tags['movieId'] == matrix_movie_id]\n",
    "\n",
    "# Print the result\n",
    "print(\"Tags submitted by users for 'Matrix, The (1999)':\")\n",
    "print(matrix_tags['tag'])\n"
   ]
  },
  {
   "cell_type": "code",
   "execution_count": 4,
   "id": "c0b4625a",
   "metadata": {},
   "outputs": [
    {
     "name": "stdout",
     "output_type": "stream",
     "text": [
      "The average user rating for 'Terminator 2: Judgment Day (1991)' is: 3.97\n"
     ]
    }
   ],
   "source": [
    "# Assuming 'movieId' is the column representing movie IDs and 'title' is the column representing movie titles in the 'movies' dataset\n",
    "terminator2_movie_id = movies[movies['title'] == 'Terminator 2: Judgment Day (1991)']['movieId'].values[0]\n",
    "\n",
    "# Filter ratings for the specific movieId\n",
    "terminator2_ratings = ratings[ratings['movieId'] == terminator2_movie_id]\n",
    "\n",
    "# Calculate the average user rating\n",
    "average_rating = terminator2_ratings['rating'].mean()\n",
    "\n",
    "# Print the result\n",
    "print(f\"The average user rating for 'Terminator 2: Judgment Day (1991)' is: {average_rating:.2f}\")\n"
   ]
  },
  {
   "cell_type": "code",
   "execution_count": 5,
   "id": "c7e1f3ee",
   "metadata": {},
   "outputs": [
    {
     "data": {
      "image/png": "[encoded data removed]",
      "text/plain": [
       "<Figure size 640x480 with 1 Axes>"
      ]
     },
     "metadata": {},
     "output_type": "display_data"
    }
   ],
   "source": [
    "import matplotlib.pyplot as plt\n",
    "\n",
    "# Assuming 'movieId' is the column representing movie IDs and 'title' is the column representing movie titles in the 'movies' dataset\n",
    "fight_club_movie_id = movies[movies['title'] == 'Fight Club (1999)']['movieId'].values[0]\n",
    "\n",
    "# Filter ratings for the specific movieId\n",
    "fight_club_ratings = ratings[ratings['movieId'] == fight_club_movie_id]\n",
    "\n",
    "# Plot the histogram\n",
    "plt.hist(fight_club_ratings['rating'], bins=5, edgecolor='black')\n",
    "plt.title('User Ratings Distribution for Fight Club (1999)')\n",
    "plt.xlabel('Rating')\n",
    "plt.ylabel('Number of Ratings')\n",
    "plt.show()"
   ]
  },
  {
   "cell_type": "code",
   "execution_count": 7,
   "id": "aa2803c3",
   "metadata": {},
   "outputs": [],
   "source": [
    "# Step 1: Group user ratings based on movieId and apply aggregation operations\n",
    "ratings_grouped = ratings.groupby('movieId').agg({'rating': ['count', 'mean']}).reset_index()\n",
    "\n",
    "# Flatten the multi-level column index\n",
    "ratings_grouped.columns = ['movieId', 'rating_count', 'rating_mean']\n",
    "\n",
    "# Step 2: Apply inner join on dataframe created from movies.csv and the grouped df from step 1\n",
    "merged_data = pd.merge(movies, ratings_grouped, on='movieId', how='inner')\n",
    "\n",
    "# Step 3: Filter only those movies with more than 50 user ratings\n",
    "filtered_data = merged_data[merged_data['rating_count'] > 50]\n"
   ]
  },
  {
   "cell_type": "code",
   "execution_count": 8,
   "id": "f1f8ad0a",
   "metadata": {},
   "outputs": [
    {
     "name": "stdout",
     "output_type": "stream",
     "text": [
      "The most popular movie based on average user ratings is:\n",
      "                                title  rating_mean\n",
      "277  Shawshank Redemption, The (1994)     4.429022\n"
     ]
    }
   ],
   "source": [
    "# Find the movie with the highest average user rating\n",
    "most_popular_movie = filtered_data[filtered_data['rating_mean'] == filtered_data['rating_mean'].max()]\n",
    "\n",
    "# Print the result\n",
    "print(\"The most popular movie based on average user ratings is:\")\n",
    "print(most_popular_movie[['title', 'rating_mean']])\n"
   ]
  },
  {
   "cell_type": "code",
   "execution_count": 9,
   "id": "6ebfe012",
   "metadata": {},
   "outputs": [
    {
     "name": "stdout",
     "output_type": "stream",
     "text": [
      "Top 5 popular movies based on the number of user ratings are:\n",
      "                                 title  rating_count\n",
      "314                Forrest Gump (1994)           329\n",
      "277   Shawshank Redemption, The (1994)           317\n",
      "257                Pulp Fiction (1994)           307\n",
      "510   Silence of the Lambs, The (1991)           279\n",
      "1938                Matrix, The (1999)           278\n"
     ]
    }
   ],
   "source": [
    "# Sort the filtered data based on the number of user ratings in descending order\n",
    "top_popular_movies = filtered_data.sort_values(by='rating_count', ascending=False).head(5)\n",
    "\n",
    "# Print the result\n",
    "print(\"Top 5 popular movies based on the number of user ratings are:\")\n",
    "print(top_popular_movies[['title', 'rating_count']])"
   ]
  },
  {
   "cell_type": "code",
   "execution_count": 10,
   "id": "77afcc41",
   "metadata": {},
   "outputs": [
    {
     "name": "stdout",
     "output_type": "stream",
     "text": [
      "The third most popular Sci-Fi movie based on the number of user ratings is:\n",
      "title           Jurassic Park (1993)\n",
      "rating_count                     238\n",
      "Name: 418, dtype: object\n"
     ]
    }
   ],
   "source": [
    "# Filter Sci-Fi movies from the filtered data\n",
    "sci_fi_movies = filtered_data[filtered_data['genres'].str.contains('Sci-Fi')]\n",
    "\n",
    "# Sort the Sci-Fi movies based on the number of user ratings in descending order\n",
    "third_most_popular_sci_fi = sci_fi_movies.sort_values(by='rating_count', ascending=False).iloc[2]\n",
    "\n",
    "# Print the result\n",
    "print(\"The third most popular Sci-Fi movie based on the number of user ratings is:\")\n",
    "print(third_most_popular_sci_fi[['title', 'rating_count']])\n"
   ]
  },
  {
   "cell_type": "code",
   "execution_count": 11,
   "id": "370aa025",
   "metadata": {},
   "outputs": [
    {
     "name": "stdout",
     "output_type": "stream",
     "text": [
      "Requirement already satisfied: requests in c:\\users\\dell\\anaconda3\\lib\\site-packages (2.31.0)\n",
      "Requirement already satisfied: beautifulsoup4 in c:\\users\\dell\\anaconda3\\lib\\site-packages (4.12.2)\n",
      "Requirement already satisfied: charset-normalizer<4,>=2 in c:\\users\\dell\\anaconda3\\lib\\site-packages (from requests) (2.0.4)\n",
      "Requirement already satisfied: idna<4,>=2.5 in c:\\users\\dell\\anaconda3\\lib\\site-packages (from requests) (3.4)\n",
      "Requirement already satisfied: urllib3<3,>=1.21.1 in c:\\users\\dell\\anaconda3\\lib\\site-packages (from requests) (1.26.16)\n",
      "Requirement already satisfied: certifi>=2017.4.17 in c:\\users\\dell\\anaconda3\\lib\\site-packages (from requests) (2023.7.22)\n",
      "Requirement already satisfied: soupsieve>1.2 in c:\\users\\dell\\anaconda3\\lib\\site-packages (from beautifulsoup4) (2.4)\n"
     ]
    }
   ],
   "source": [
    "!pip install requests beautifulsoup4"
   ]
  },
  {
   "cell_type": "code",
   "execution_count": null,
   "id": "bbfc747c",
   "metadata": {},
   "outputs": [],
   "source": []
  },
  {
   "cell_type": "code",
   "execution_count": null,
   "id": "469b55a3",
   "metadata": {},
   "outputs": [],
   "source": []
  }
 ],
 "metadata": {
  "kernelspec": {
   "display_name": "Python 3 (ipykernel)",
   "language": "python",
   "name": "python3"
  },
  "language_info": {
   "codemirror_mode": {
    "name": "ipython",
    "version": 3
   },
   "file_extension": ".py",
   "mimetype": "text/x-python",
   "name": "python",
   "nbconvert_exporter": "python",
   "pygments_lexer": "ipython3",
   "version": "3.11.4"
  }
 },
 "nbformat": 4,
 "nbformat_minor": 5
}
